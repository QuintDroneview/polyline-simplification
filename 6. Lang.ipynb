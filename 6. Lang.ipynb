{
 "cells": [
  {
   "cell_type": "code",
   "execution_count": 19,
   "metadata": {
    "collapsed": false
   },
   "outputs": [
    {
     "data": {
      "image/png": "[encoded data removed]",
      "text/plain": [
       "<matplotlib.figure.Figure at 0x11099d990>"
      ]
     },
     "metadata": {},
     "output_type": "display_data"
    }
   ],
   "source": [
    "import matplotlib.pyplot as plt\n",
    "%matplotlib inline\n",
    "import numpy as np\n",
    "\n",
    "poly = np.array([[1,2],\n",
    "                 [2,3],\n",
    "                 [5,4],\n",
    "                 [9,3],\n",
    "                 [11,0],\n",
    "                 [14,1],\n",
    "                 [15,2],\n",
    "                 [16,4]\n",
    "                ]);\n",
    "#poly = poly0\n",
    "plt.figure(figsize=(15,5))\n",
    "plt.plot(poly[:,0],poly[:,1])\n",
    "plt.scatter(poly[:,0],poly[:,1]);"
   ]
  },
  {
   "cell_type": "code",
   "execution_count": 20,
   "metadata": {
    "collapsed": false
   },
   "outputs": [
    {
     "name": "stdout",
     "output_type": "stream",
     "text": [
      "0.707106781187\n",
      "1.0\n"
     ]
    }
   ],
   "source": [
    "import math\n",
    "#from http://mathworld.wolfram.com/Point-LineDistance2-Dimensional.html\n",
    "def point_line_distance(x0,y0,x1,y1,x2,y2):\n",
    "    return abs((x2-x1)*(y1-y0)-(x1-x0)*(y2-y1)) / math.sqrt((x2-x1)*(x2-x1)+(y2-y1)*(y2-y1))\n",
    "    \n",
    "print point_line_distance(1,3,1,2,2,3)\n",
    "print point_line_distance(0,1,-2,0,2,0)"
   ]
  },
  {
   "cell_type": "code",
   "execution_count": 62,
   "metadata": {
    "collapsed": false
   },
   "outputs": [],
   "source": [
    "def simplify_lang(tolerance,p,step):\n",
    "    mask = np.ones(len(p),dtype='bool')\n",
    "    start = 0\n",
    "    end = 2\n",
    "    \n",
    "    marker = np.array([p[start],p[end]],dtype='double')\n",
    "    \n",
    "    if step == -1:\n",
    "        maxstep = len(p)\n",
    "    else:\n",
    "        maxstep = min(step,len(p))\n",
    "\n",
    "    while end < len(p) and end < maxstep:\n",
    "        bGreater = False\n",
    "        for i in range(start,end):\n",
    "            ldist = point_line_distance(p[i,0],p[i,1],\n",
    "                                        p[start,0],p[start,1],\n",
    "                                        p[end,0],p[end,1])\n",
    "            if ldist>tolerance:\n",
    "                bGreater = True\n",
    "                break\n",
    "        marker = np.array([p[start],p[end]])\n",
    "        if bGreater:\n",
    "            mask[start+1:end-1] = False\n",
    "            start = end-1\n",
    "            end = start+2\n",
    "        else:\n",
    "            end = end+1\n",
    "    mask[start+1:end-1]=False\n",
    "    \n",
    "    \n",
    "    return mask,marker"
   ]
  },
  {
   "cell_type": "code",
   "execution_count": 63,
   "metadata": {
    "collapsed": false
   },
   "outputs": [
    {
     "data": {
      "image/png": "[encoded data removed]",
      "text/plain": [
       "<matplotlib.figure.Figure at 0x112c973d0>"
      ]
     },
     "metadata": {},
     "output_type": "display_data"
    }
   ],
   "source": [
    "def plotpoly(tolerance,step):\n",
    "    mask,marker = simplify_lang(tolerance,poly,step)\n",
    "\n",
    "    #figure\n",
    "    fig = plt.figure(figsize=(15,6))\n",
    "    fig.gca().set_aspect('equal', adjustable='box')\n",
    "\n",
    "    #the original polygon\n",
    "    plt.plot(poly[:,0],poly[:,1])\n",
    "    plt.scatter(poly[:,0],poly[:,1])\n",
    "\n",
    "    #simplified polygon\n",
    "    simplified = poly[mask]\n",
    "    plt.plot(simplified[:,0],simplified[:,1])\n",
    "    plt.scatter(simplified[:,0],simplified[:,1])\n",
    "\n",
    "    #deleted points\n",
    "    deleted = poly[np.logical_not(mask)]\n",
    "    plt.scatter(deleted[:,0],deleted[:,1],color='red',marker='x',s=50,linewidth=2.0)\n",
    "    \n",
    "    #marker depending on step\n",
    "    if len(marker)>1:\n",
    "        vec = marker[1]-marker[0]\n",
    "        len1vec = vec / math.sqrt(np.dot(vec,vec))\n",
    "\n",
    "        p1 = marker[0] - 1*vec\n",
    "        p2 = marker[0] + 2*vec\n",
    "        line = np.array([p1,p2])\n",
    "        m = plt.Line2D(line[:,0],line[:,1],color='red',linewidth=2.0)\n",
    "        fig.gca().add_artist(m)\n",
    "\n",
    "        normvec = np.array([-len1vec[1],len1vec[0]])  \n",
    "        left = marker[0] + tolerance*normvec\n",
    "        p1 = left-1*vec\n",
    "        p2 = left+2*vec\n",
    "        line = np.array([p1,p2])\n",
    "        l = plt.Line2D(line[:,0],line[:,1],linestyle=':',color='red',linewidth=2.0)\n",
    "        fig.gca().add_artist(l)\n",
    "\n",
    "        right = marker[0] - tolerance*normvec\n",
    "        p1 = right-1*vec\n",
    "        p2 = right+2*vec\n",
    "        line = np.array([p1,p2])\n",
    "        r = plt.Line2D(line[:,0],line[:,1],linestyle=':',color='red',linewidth=2.0)\n",
    "        fig.gca().add_artist(r)\n",
    "\n",
    "\n",
    "from IPython.html.widgets import *\n",
    "interact(plotpoly, tolerance=(0,10,0.1),maxdist=(0,12,0.1),step=(0,10,1));"
   ]
  },
  {
   "cell_type": "code",
   "execution_count": null,
   "metadata": {
    "collapsed": true
   },
   "outputs": [],
   "source": []
  },
  {
   "cell_type": "code",
   "execution_count": null,
   "metadata": {
    "collapsed": true
   },
   "outputs": [],
   "source": []
  },
  {
   "cell_type": "code",
   "execution_count": null,
   "metadata": {
    "collapsed": true
   },
   "outputs": [],
   "source": []
  },
  {
   "cell_type": "code",
   "execution_count": null,
   "metadata": {
    "collapsed": true
   },
   "outputs": [],
   "source": []
  },
  {
   "cell_type": "code",
   "execution_count": null,
   "metadata": {
    "collapsed": true
   },
   "outputs": [],
   "source": []
  },
  {
   "cell_type": "code",
   "execution_count": null,
   "metadata": {
    "collapsed": true
   },
   "outputs": [],
   "source": []
  }
 ],
 "metadata": {
  "kernelspec": {
   "display_name": "Python 2",
   "language": "python",
   "name": "python2"
  },
  "language_info": {
   "codemirror_mode": {
    "name": "ipython",
    "version": 2
   },
   "file_extension": ".py",
   "mimetype": "text/x-python",
   "name": "python",
   "nbconvert_exporter": "python",
   "pygments_lexer": "ipython2",
   "version": "2.7.10"
  }
 },
 "nbformat": 4,
 "nbformat_minor": 0
}
